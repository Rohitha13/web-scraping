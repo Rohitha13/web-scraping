{
 "cells": [
  {
   "cell_type": "code",
   "execution_count": 65,
   "id": "dabfd919",
   "metadata": {},
   "outputs": [],
   "source": [
    "import pandas as pd\n",
    "import requests\n",
    "from bs4 import BeautifulSoup\n",
    "import re\n",
    "import numpy as np"
   ]
  },
  {
   "cell_type": "code",
   "execution_count": 66,
   "id": "3a4c63e8",
   "metadata": {},
   "outputs": [],
   "source": [
    "brand = []\n",
    "price = []\n",
    "features = []\n",
    "rating = []\n",
    "\n",
    "\n",
    "for i in range(1,30):\n",
    "    URL='https://www.flipkart.com/laptops/pr?sid=6bo%2Cb5g&otracker=categorytree&fm=neo%2Fmerchandising&iid=M_7ad48b72-6dd9-4bf3-97b3-178cef24ddcb_1_372UD5BXDFYS_MC.34WHNYFH5V2Y&otracker=hp_rich_navigation_8_1.navigationCard.RICH_NAVIGATION_Electronics%7ELaptop%2Band%2BDesktop_34WHNYFH5V2Y&otracker1=hp_rich_navigation_PINNED_neo%2Fmerchandising_NA_NAV_EXPANDABLE_navigationCard_cc_8_L1_view-all&cid=34WHNYFH5V2Y&page={}'.format(i)\n",
    "    page = requests.get(URL)\n",
    "    soup = BeautifulSoup(page.content)\n",
    "    for i in soup.find_all(\"div\",class_=\"_4rR01T\"):\n",
    "        brand.append(i.text)\n",
    "        \n",
    "    for pr in soup.find_all(\"div\",class_=\"_25b18c\")[:24]:\n",
    "        price.append(pr.text)\n",
    "        \n",
    "    for i in soup.find_all(\"div\",class_=\"fMghEO\"):\n",
    "        features.append(i.text)\n",
    "        \n",
    "    for rat in soup.find_all('div',class_ = '_3LWZlK'):\n",
    "        if rat is None:\n",
    "            rating.append(np.nan)\n",
    "        else:\n",
    "            rating.append(rat.text)\n",
    "            \n",
    "    \n",
    "        \n",
    "    "
   ]
  },
  {
   "cell_type": "code",
   "execution_count": 67,
   "id": "684c00d6",
   "metadata": {
    "scrolled": true
   },
   "outputs": [
    {
     "data": {
      "text/plain": [
       "696"
      ]
     },
     "execution_count": 67,
     "metadata": {},
     "output_type": "execute_result"
    }
   ],
   "source": [
    "len(features)"
   ]
  },
  {
   "cell_type": "code",
   "execution_count": 68,
   "id": "ba10ea6b",
   "metadata": {},
   "outputs": [
    {
     "data": {
      "text/plain": [
       "696"
      ]
     },
     "execution_count": 68,
     "metadata": {},
     "output_type": "execute_result"
    }
   ],
   "source": [
    "len(brand)"
   ]
  },
  {
   "cell_type": "code",
   "execution_count": 69,
   "id": "8e026dd9",
   "metadata": {},
   "outputs": [
    {
     "data": {
      "text/plain": [
       "696"
      ]
     },
     "execution_count": 69,
     "metadata": {},
     "output_type": "execute_result"
    }
   ],
   "source": [
    "len(price)"
   ]
  },
  {
   "cell_type": "code",
   "execution_count": 70,
   "id": "4635f48a",
   "metadata": {},
   "outputs": [
    {
     "data": {
      "text/plain": [
       "977"
      ]
     },
     "execution_count": 70,
     "metadata": {},
     "output_type": "execute_result"
    }
   ],
   "source": [
    "len(rating)"
   ]
  },
  {
   "cell_type": "code",
   "execution_count": null,
   "id": "af136a4a",
   "metadata": {},
   "outputs": [],
   "source": []
  },
  {
   "cell_type": "code",
   "execution_count": 79,
   "id": "6a4c8d3c",
   "metadata": {},
   "outputs": [
    {
     "data": {
      "text/html": [
       "<div>\n",
       "<style scoped>\n",
       "    .dataframe tbody tr th:only-of-type {\n",
       "        vertical-align: middle;\n",
       "    }\n",
       "\n",
       "    .dataframe tbody tr th {\n",
       "        vertical-align: top;\n",
       "    }\n",
       "\n",
       "    .dataframe thead th {\n",
       "        text-align: right;\n",
       "    }\n",
       "</style>\n",
       "<table border=\"1\" class=\"dataframe\">\n",
       "  <thead>\n",
       "    <tr style=\"text-align: right;\">\n",
       "      <th></th>\n",
       "      <th>Brand</th>\n",
       "      <th>Price</th>\n",
       "      <th>Features</th>\n",
       "      <th>ratings</th>\n",
       "    </tr>\n",
       "  </thead>\n",
       "  <tbody>\n",
       "    <tr>\n",
       "      <th>0</th>\n",
       "      <td>Infinix INBook X1 Core i3 10th Gen - (8 GB/256...</td>\n",
       "      <td>₹35,990₹49,99928% off</td>\n",
       "      <td>Intel Core i3 Processor (10th Gen)8 GB LPDDR4X...</td>\n",
       "      <td>4.3</td>\n",
       "    </tr>\n",
       "    <tr>\n",
       "      <th>1</th>\n",
       "      <td>Infinix INBook X1 Core i5 10th Gen - (8 GB/512...</td>\n",
       "      <td>₹45,990₹59,99923% off</td>\n",
       "      <td>Intel Core i5 Processor (10th Gen)8 GB LPDDR4X...</td>\n",
       "      <td>4.1</td>\n",
       "    </tr>\n",
       "    <tr>\n",
       "      <th>2</th>\n",
       "      <td>ASUS VivoBook 15 (2021) Core i3 10th Gen - (8 ...</td>\n",
       "      <td>₹42,990₹50,99015% off</td>\n",
       "      <td>Intel Core i3 Processor (10th Gen)8 GB DDR4 RA...</td>\n",
       "      <td>4.3</td>\n",
       "    </tr>\n",
       "    <tr>\n",
       "      <th>3</th>\n",
       "      <td>DELL Inspiron Core i3 11th Gen - (8 GB/1 TB HD...</td>\n",
       "      <td>₹44,490₹57,47922% off</td>\n",
       "      <td>Intel Core i3 Processor (11th Gen)8 GB DDR4 RA...</td>\n",
       "      <td>4.4</td>\n",
       "    </tr>\n",
       "    <tr>\n",
       "      <th>4</th>\n",
       "      <td>ASUS TUF Gaming F15 Core i5 10th Gen - (8 GB/5...</td>\n",
       "      <td>₹59,990₹81,99026% off</td>\n",
       "      <td>Intel Core i5 Processor (10th Gen)8 GB DDR4 RA...</td>\n",
       "      <td>4.5</td>\n",
       "    </tr>\n",
       "    <tr>\n",
       "      <th>...</th>\n",
       "      <td>...</td>\n",
       "      <td>...</td>\n",
       "      <td>...</td>\n",
       "      <td>...</td>\n",
       "    </tr>\n",
       "    <tr>\n",
       "      <th>495</th>\n",
       "      <td>Infinix INBook X1 Core i3 10th Gen - (8 GB/256...</td>\n",
       "      <td>₹35,990₹49,99928% off</td>\n",
       "      <td>Intel Core i3 Processor (10th Gen)8 GB LPDDR4X...</td>\n",
       "      <td>5</td>\n",
       "    </tr>\n",
       "    <tr>\n",
       "      <th>496</th>\n",
       "      <td>ASUS Zephyrus G14 Ryzen 7 Octa Core AMD Ryzen™...</td>\n",
       "      <td>₹1,11,990₹1,37,99018% off</td>\n",
       "      <td>AMD Ryzen 7 Octa Core Processor (5th Gen)8 GB ...</td>\n",
       "      <td>4.4</td>\n",
       "    </tr>\n",
       "    <tr>\n",
       "      <th>497</th>\n",
       "      <td>HP Spectre x360 14 Series Intel EVO Core i5 11...</td>\n",
       "      <td>₹1,11,999₹1,46,19423% off</td>\n",
       "      <td>Intel Core i5 Processor (11th Gen)16 GB LPDDR4...</td>\n",
       "      <td>5</td>\n",
       "    </tr>\n",
       "    <tr>\n",
       "      <th>498</th>\n",
       "      <td>DELL Inspiron Core i5 11th Gen - (8 GB/512 GB ...</td>\n",
       "      <td>₹65,890₹86,84024% off</td>\n",
       "      <td>Intel Core i5 Processor (11th Gen)8 GB DDR4 RA...</td>\n",
       "      <td>5</td>\n",
       "    </tr>\n",
       "    <tr>\n",
       "      <th>499</th>\n",
       "      <td>MSI Stealth 15M Core i7 11th Gen - (16 GB/1 TB...</td>\n",
       "      <td>₹1,19,990₹1,62,99026% off</td>\n",
       "      <td>Intel Core i7 Processor (11th Gen)16 GB DDR4 R...</td>\n",
       "      <td>4.6</td>\n",
       "    </tr>\n",
       "  </tbody>\n",
       "</table>\n",
       "<p>500 rows × 4 columns</p>\n",
       "</div>"
      ],
      "text/plain": [
       "                                                 Brand  \\\n",
       "0    Infinix INBook X1 Core i3 10th Gen - (8 GB/256...   \n",
       "1    Infinix INBook X1 Core i5 10th Gen - (8 GB/512...   \n",
       "2    ASUS VivoBook 15 (2021) Core i3 10th Gen - (8 ...   \n",
       "3    DELL Inspiron Core i3 11th Gen - (8 GB/1 TB HD...   \n",
       "4    ASUS TUF Gaming F15 Core i5 10th Gen - (8 GB/5...   \n",
       "..                                                 ...   \n",
       "495  Infinix INBook X1 Core i3 10th Gen - (8 GB/256...   \n",
       "496  ASUS Zephyrus G14 Ryzen 7 Octa Core AMD Ryzen™...   \n",
       "497  HP Spectre x360 14 Series Intel EVO Core i5 11...   \n",
       "498  DELL Inspiron Core i5 11th Gen - (8 GB/512 GB ...   \n",
       "499  MSI Stealth 15M Core i7 11th Gen - (16 GB/1 TB...   \n",
       "\n",
       "                         Price  \\\n",
       "0        ₹35,990₹49,99928% off   \n",
       "1        ₹45,990₹59,99923% off   \n",
       "2        ₹42,990₹50,99015% off   \n",
       "3        ₹44,490₹57,47922% off   \n",
       "4        ₹59,990₹81,99026% off   \n",
       "..                         ...   \n",
       "495      ₹35,990₹49,99928% off   \n",
       "496  ₹1,11,990₹1,37,99018% off   \n",
       "497  ₹1,11,999₹1,46,19423% off   \n",
       "498      ₹65,890₹86,84024% off   \n",
       "499  ₹1,19,990₹1,62,99026% off   \n",
       "\n",
       "                                              Features ratings  \n",
       "0    Intel Core i3 Processor (10th Gen)8 GB LPDDR4X...     4.3  \n",
       "1    Intel Core i5 Processor (10th Gen)8 GB LPDDR4X...     4.1  \n",
       "2    Intel Core i3 Processor (10th Gen)8 GB DDR4 RA...     4.3  \n",
       "3    Intel Core i3 Processor (11th Gen)8 GB DDR4 RA...     4.4  \n",
       "4    Intel Core i5 Processor (10th Gen)8 GB DDR4 RA...     4.5  \n",
       "..                                                 ...     ...  \n",
       "495  Intel Core i3 Processor (10th Gen)8 GB LPDDR4X...       5  \n",
       "496  AMD Ryzen 7 Octa Core Processor (5th Gen)8 GB ...     4.4  \n",
       "497  Intel Core i5 Processor (11th Gen)16 GB LPDDR4...       5  \n",
       "498  Intel Core i5 Processor (11th Gen)8 GB DDR4 RA...       5  \n",
       "499  Intel Core i7 Processor (11th Gen)16 GB DDR4 R...     4.6  \n",
       "\n",
       "[500 rows x 4 columns]"
      ]
     },
     "execution_count": 79,
     "metadata": {},
     "output_type": "execute_result"
    }
   ],
   "source": [
    "df=pd.DataFrame({\"Brand\":brand[:500],\n",
    "                \"Price\":price[:500],\n",
    "                \"Features\":features[:500],\n",
    "                'ratings':rating[:500]})\n",
    "df"
   ]
  },
  {
   "cell_type": "code",
   "execution_count": 80,
   "id": "ffa345ae",
   "metadata": {},
   "outputs": [],
   "source": [
    "df.to_csv('laptop.csv')"
   ]
  },
  {
   "cell_type": "code",
   "execution_count": 81,
   "id": "bf0a4c00",
   "metadata": {},
   "outputs": [],
   "source": [
    "df = pd.read_csv('laptop.csv')"
   ]
  },
  {
   "cell_type": "code",
   "execution_count": 82,
   "id": "4ce658d5",
   "metadata": {},
   "outputs": [
    {
     "data": {
      "text/html": [
       "<div>\n",
       "<style scoped>\n",
       "    .dataframe tbody tr th:only-of-type {\n",
       "        vertical-align: middle;\n",
       "    }\n",
       "\n",
       "    .dataframe tbody tr th {\n",
       "        vertical-align: top;\n",
       "    }\n",
       "\n",
       "    .dataframe thead th {\n",
       "        text-align: right;\n",
       "    }\n",
       "</style>\n",
       "<table border=\"1\" class=\"dataframe\">\n",
       "  <thead>\n",
       "    <tr style=\"text-align: right;\">\n",
       "      <th></th>\n",
       "      <th>Unnamed: 0</th>\n",
       "      <th>Brand</th>\n",
       "      <th>Price</th>\n",
       "      <th>Features</th>\n",
       "      <th>ratings</th>\n",
       "    </tr>\n",
       "  </thead>\n",
       "  <tbody>\n",
       "    <tr>\n",
       "      <th>0</th>\n",
       "      <td>0</td>\n",
       "      <td>Infinix INBook X1 Core i3 10th Gen - (8 GB/256...</td>\n",
       "      <td>₹35,990₹49,99928% off</td>\n",
       "      <td>Intel Core i3 Processor (10th Gen)8 GB LPDDR4X...</td>\n",
       "      <td>4.3</td>\n",
       "    </tr>\n",
       "    <tr>\n",
       "      <th>1</th>\n",
       "      <td>1</td>\n",
       "      <td>Infinix INBook X1 Core i5 10th Gen - (8 GB/512...</td>\n",
       "      <td>₹45,990₹59,99923% off</td>\n",
       "      <td>Intel Core i5 Processor (10th Gen)8 GB LPDDR4X...</td>\n",
       "      <td>4.1</td>\n",
       "    </tr>\n",
       "    <tr>\n",
       "      <th>2</th>\n",
       "      <td>2</td>\n",
       "      <td>ASUS VivoBook 15 (2021) Core i3 10th Gen - (8 ...</td>\n",
       "      <td>₹42,990₹50,99015% off</td>\n",
       "      <td>Intel Core i3 Processor (10th Gen)8 GB DDR4 RA...</td>\n",
       "      <td>4.3</td>\n",
       "    </tr>\n",
       "    <tr>\n",
       "      <th>3</th>\n",
       "      <td>3</td>\n",
       "      <td>DELL Inspiron Core i3 11th Gen - (8 GB/1 TB HD...</td>\n",
       "      <td>₹44,490₹57,47922% off</td>\n",
       "      <td>Intel Core i3 Processor (11th Gen)8 GB DDR4 RA...</td>\n",
       "      <td>4.4</td>\n",
       "    </tr>\n",
       "    <tr>\n",
       "      <th>4</th>\n",
       "      <td>4</td>\n",
       "      <td>ASUS TUF Gaming F15 Core i5 10th Gen - (8 GB/5...</td>\n",
       "      <td>₹59,990₹81,99026% off</td>\n",
       "      <td>Intel Core i5 Processor (10th Gen)8 GB DDR4 RA...</td>\n",
       "      <td>4.5</td>\n",
       "    </tr>\n",
       "    <tr>\n",
       "      <th>...</th>\n",
       "      <td>...</td>\n",
       "      <td>...</td>\n",
       "      <td>...</td>\n",
       "      <td>...</td>\n",
       "      <td>...</td>\n",
       "    </tr>\n",
       "    <tr>\n",
       "      <th>495</th>\n",
       "      <td>495</td>\n",
       "      <td>Infinix INBook X1 Core i3 10th Gen - (8 GB/256...</td>\n",
       "      <td>₹35,990₹49,99928% off</td>\n",
       "      <td>Intel Core i3 Processor (10th Gen)8 GB LPDDR4X...</td>\n",
       "      <td>5.0</td>\n",
       "    </tr>\n",
       "    <tr>\n",
       "      <th>496</th>\n",
       "      <td>496</td>\n",
       "      <td>ASUS Zephyrus G14 Ryzen 7 Octa Core AMD Ryzen™...</td>\n",
       "      <td>₹1,11,990₹1,37,99018% off</td>\n",
       "      <td>AMD Ryzen 7 Octa Core Processor (5th Gen)8 GB ...</td>\n",
       "      <td>4.4</td>\n",
       "    </tr>\n",
       "    <tr>\n",
       "      <th>497</th>\n",
       "      <td>497</td>\n",
       "      <td>HP Spectre x360 14 Series Intel EVO Core i5 11...</td>\n",
       "      <td>₹1,11,999₹1,46,19423% off</td>\n",
       "      <td>Intel Core i5 Processor (11th Gen)16 GB LPDDR4...</td>\n",
       "      <td>5.0</td>\n",
       "    </tr>\n",
       "    <tr>\n",
       "      <th>498</th>\n",
       "      <td>498</td>\n",
       "      <td>DELL Inspiron Core i5 11th Gen - (8 GB/512 GB ...</td>\n",
       "      <td>₹65,890₹86,84024% off</td>\n",
       "      <td>Intel Core i5 Processor (11th Gen)8 GB DDR4 RA...</td>\n",
       "      <td>5.0</td>\n",
       "    </tr>\n",
       "    <tr>\n",
       "      <th>499</th>\n",
       "      <td>499</td>\n",
       "      <td>MSI Stealth 15M Core i7 11th Gen - (16 GB/1 TB...</td>\n",
       "      <td>₹1,19,990₹1,62,99026% off</td>\n",
       "      <td>Intel Core i7 Processor (11th Gen)16 GB DDR4 R...</td>\n",
       "      <td>4.6</td>\n",
       "    </tr>\n",
       "  </tbody>\n",
       "</table>\n",
       "<p>500 rows × 5 columns</p>\n",
       "</div>"
      ],
      "text/plain": [
       "     Unnamed: 0                                              Brand  \\\n",
       "0             0  Infinix INBook X1 Core i3 10th Gen - (8 GB/256...   \n",
       "1             1  Infinix INBook X1 Core i5 10th Gen - (8 GB/512...   \n",
       "2             2  ASUS VivoBook 15 (2021) Core i3 10th Gen - (8 ...   \n",
       "3             3  DELL Inspiron Core i3 11th Gen - (8 GB/1 TB HD...   \n",
       "4             4  ASUS TUF Gaming F15 Core i5 10th Gen - (8 GB/5...   \n",
       "..          ...                                                ...   \n",
       "495         495  Infinix INBook X1 Core i3 10th Gen - (8 GB/256...   \n",
       "496         496  ASUS Zephyrus G14 Ryzen 7 Octa Core AMD Ryzen™...   \n",
       "497         497  HP Spectre x360 14 Series Intel EVO Core i5 11...   \n",
       "498         498  DELL Inspiron Core i5 11th Gen - (8 GB/512 GB ...   \n",
       "499         499  MSI Stealth 15M Core i7 11th Gen - (16 GB/1 TB...   \n",
       "\n",
       "                         Price  \\\n",
       "0        ₹35,990₹49,99928% off   \n",
       "1        ₹45,990₹59,99923% off   \n",
       "2        ₹42,990₹50,99015% off   \n",
       "3        ₹44,490₹57,47922% off   \n",
       "4        ₹59,990₹81,99026% off   \n",
       "..                         ...   \n",
       "495      ₹35,990₹49,99928% off   \n",
       "496  ₹1,11,990₹1,37,99018% off   \n",
       "497  ₹1,11,999₹1,46,19423% off   \n",
       "498      ₹65,890₹86,84024% off   \n",
       "499  ₹1,19,990₹1,62,99026% off   \n",
       "\n",
       "                                              Features  ratings  \n",
       "0    Intel Core i3 Processor (10th Gen)8 GB LPDDR4X...      4.3  \n",
       "1    Intel Core i5 Processor (10th Gen)8 GB LPDDR4X...      4.1  \n",
       "2    Intel Core i3 Processor (10th Gen)8 GB DDR4 RA...      4.3  \n",
       "3    Intel Core i3 Processor (11th Gen)8 GB DDR4 RA...      4.4  \n",
       "4    Intel Core i5 Processor (10th Gen)8 GB DDR4 RA...      4.5  \n",
       "..                                                 ...      ...  \n",
       "495  Intel Core i3 Processor (10th Gen)8 GB LPDDR4X...      5.0  \n",
       "496  AMD Ryzen 7 Octa Core Processor (5th Gen)8 GB ...      4.4  \n",
       "497  Intel Core i5 Processor (11th Gen)16 GB LPDDR4...      5.0  \n",
       "498  Intel Core i5 Processor (11th Gen)8 GB DDR4 RA...      5.0  \n",
       "499  Intel Core i7 Processor (11th Gen)16 GB DDR4 R...      4.6  \n",
       "\n",
       "[500 rows x 5 columns]"
      ]
     },
     "execution_count": 82,
     "metadata": {},
     "output_type": "execute_result"
    }
   ],
   "source": [
    "df"
   ]
  },
  {
   "cell_type": "code",
   "execution_count": null,
   "id": "b68c15c8",
   "metadata": {},
   "outputs": [],
   "source": []
  },
  {
   "cell_type": "code",
   "execution_count": null,
   "id": "7d59bc11",
   "metadata": {},
   "outputs": [],
   "source": []
  },
  {
   "cell_type": "code",
   "execution_count": null,
   "id": "1836ebb8",
   "metadata": {},
   "outputs": [],
   "source": []
  }
 ],
 "metadata": {
  "kernelspec": {
   "display_name": "Python 3 (ipykernel)",
   "language": "python",
   "name": "python3"
  },
  "language_info": {
   "codemirror_mode": {
    "name": "ipython",
    "version": 3
   },
   "file_extension": ".py",
   "mimetype": "text/x-python",
   "name": "python",
   "nbconvert_exporter": "python",
   "pygments_lexer": "ipython3",
   "version": "3.9.7"
  }
 },
 "nbformat": 4,
 "nbformat_minor": 5
}
